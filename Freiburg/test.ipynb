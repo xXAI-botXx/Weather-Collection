{
 "cells": [
  {
   "cell_type": "code",
   "execution_count": 22,
   "metadata": {},
   "outputs": [],
   "source": [
    "import pandas as pd\r\n",
    "import matplotlib.pyplot as plt"
   ]
  },
  {
   "cell_type": "code",
   "execution_count": 20,
   "metadata": {},
   "outputs": [
    {
     "data": {
      "text/plain": "hour                     int64\nminute                   int64\ndate                    object\nreal_temperature       float64\nreal_dew_point         float64\nreal_humidity            int64\nreal_weather_state      object\nreal_visibility          int64\nreal_rainfall            int64\nreal_air_pressure      float64\nreal_wind                int64\nreal_wind_gusts          int64\nreal_wind_direction     object\ndtype: object"
     },
     "execution_count": 20,
     "metadata": {},
     "output_type": "execute_result"
    }
   ],
   "source": [
    "df = pd.read_csv('DATA/test_data.csv', sep=',')\r\n",
    "df.dtypes"
   ]
  },
  {
   "cell_type": "code",
   "execution_count": 15,
   "metadata": {},
   "outputs": [
    {
     "name": "stdout",
     "output_type": "stream",
     "text": [
      "<class 'pandas.core.frame.DataFrame'>\n",
      "RangeIndex: 3 entries, 0 to 2\n",
      "Data columns (total 13 columns):\n",
      " #   Column               Non-Null Count  Dtype  \n",
      "---  ------               --------------  -----  \n",
      " 0   hour                 3 non-null      int64  \n",
      " 1   minute               3 non-null      int64  \n",
      " 2   date                 3 non-null      object \n",
      " 3   real_temperature     3 non-null      float64\n",
      " 4   real_dew_point       3 non-null      float64\n",
      " 5   real_humidity        3 non-null      int64  \n",
      " 6   real_weather_state   3 non-null      object \n",
      " 7   real_visibility      3 non-null      int64  \n",
      " 8   real_rainfall        3 non-null      int64  \n",
      " 9   real_air_pressure    3 non-null      float64\n",
      " 10  real_wind            3 non-null      int64  \n",
      " 11  real_wind_gusts      3 non-null      int64  \n",
      " 12  real_wind_direction  3 non-null      object \n",
      "dtypes: float64(3), int64(7), object(3)\n",
      "memory usage: 440.0+ bytes\n"
     ]
    }
   ],
   "source": [
    "df.info()"
   ]
  },
  {
   "cell_type": "code",
   "execution_count": 21,
   "metadata": {},
   "outputs": [
    {
     "data": {
      "text/plain": "hour                      int64\nminute                    int64\ndate                   category\nreal_temperature        float64\nreal_dew_point          float64\nreal_humidity             int64\nreal_weather_state     category\nreal_visibility           int64\nreal_rainfall             int64\nreal_air_pressure       float64\nreal_wind                 int64\nreal_wind_gusts           int64\nreal_wind_direction    category\ndtype: object"
     },
     "execution_count": 21,
     "metadata": {},
     "output_type": "execute_result"
    }
   ],
   "source": [
    "categorical_variables = {\"date\", \"real_weather_state\", \"real_wind_direction\"}\r\n",
    "for variable in categorical_variables:\r\n",
    "    df[variable] = df[variable].astype(\"category\")\r\n",
    "    \r\n",
    "df.dtypes"
   ]
  },
  {
   "cell_type": "code",
   "execution_count": 52,
   "metadata": {},
   "outputs": [
    {
     "data": {
      "text/plain": "(0.0, 24.0)"
     },
     "execution_count": 52,
     "metadata": {},
     "output_type": "execute_result"
    },
    {
     "data": {
      "image/png": "[encoded data removed]",
      "text/plain": "<Figure size 360x360 with 1 Axes>"
     },
     "metadata": {
      "needs_background": "light"
     },
     "output_type": "display_data"
    }
   ],
   "source": [
    "# hour\r\n",
    "df.hist(column=\"hour\",      # Column to plot\r\n",
    "        figsize=(5,5),         # Plot size\r\n",
    "#       bins=4,                # Number of bins\r\n",
    "#       bins=[7,8,9,10,11],    # specify bins as list of boundaries (left most to right most) \r\n",
    "        bins=range(0,24,1),    # specify bins by range (first, last excluded, steps)  \r\n",
    "#       log=True               # y-Achse as logrithitmic scale (in case of large y-ranges)\r\n",
    "#       color=\"blue\",          # Plot color\r\n",
    "        grid=False,            # do not show the x-y-grid\r\n",
    "        edgecolor=\"black\",     # clearer visualization of the bin boundaries\r\n",
    "#       density=True,          # Anstelle y-Achse = abs. H., nun y-Ache = density => Area ist rel. H.\r\n",
    "       );  \r\n",
    "\r\n",
    "# customize the plot \r\n",
    "plt.title(\"Stunde bei der Datensammlung\")\r\n",
    "plt.xlabel(\"Stunden\")\r\n",
    "plt.ylabel(\"Gesammelt\")\r\n",
    "plt.xlim((0, 24))"
   ]
  },
  {
   "cell_type": "code",
   "execution_count": 51,
   "metadata": {},
   "outputs": [
    {
     "data": {
      "text/plain": "(0.0, 60.0)"
     },
     "execution_count": 51,
     "metadata": {},
     "output_type": "execute_result"
    },
    {
     "data": {
      "image/png": "[encoded data removed]",
      "text/plain": "<Figure size 360x360 with 1 Axes>"
     },
     "metadata": {
      "needs_background": "light"
     },
     "output_type": "display_data"
    }
   ],
   "source": [
    "# minute\r\n",
    "df.hist(column=\"minute\",      # Column to plot\r\n",
    "        figsize=(5,5),         # Plot size\r\n",
    "#       bins=4,                # Number of bins\r\n",
    "#       bins=[7,8,9,10,11],    # specify bins as list of boundaries (left most to right most) \r\n",
    "        bins=range(0,60,1),    # specify bins by range (first, last excluded, steps)  \r\n",
    "#       log=True               # y-Achse as logrithitmic scale (in case of large y-ranges)\r\n",
    "#       color=\"blue\",          # Plot color\r\n",
    "        grid=False,            # do not show the x-y-grid\r\n",
    "        edgecolor=\"black\",     # clearer visualization of the bin boundaries\r\n",
    "#       density=True,          # Anstelle y-Achse = abs. H., nun y-Ache = density => Area ist rel. H.\r\n",
    "       );  \r\n",
    "\r\n",
    "# customize the plot \r\n",
    "plt.title(\"Minute bei der Datensammlung\")\r\n",
    "plt.xlabel(\"Minuten\")\r\n",
    "plt.ylabel(\"Gesammelt\")\r\n",
    "plt.xlim((0, 60))"
   ]
  },
  {
   "cell_type": "code",
   "execution_count": 28,
   "metadata": {},
   "outputs": [
    {
     "data": {
      "text/plain": "19.8.2021    3\nName: date, dtype: int64"
     },
     "execution_count": 28,
     "metadata": {},
     "output_type": "execute_result"
    }
   ],
   "source": [
    "# date\r\n",
    "df[\"date\"].value_counts()"
   ]
  },
  {
   "cell_type": "code",
   "execution_count": 50,
   "metadata": {},
   "outputs": [
    {
     "data": {
      "text/plain": "(14.0, 25.0)"
     },
     "execution_count": 50,
     "metadata": {},
     "output_type": "execute_result"
    },
    {
     "data": {
      "image/png": "[encoded data removed]",
      "text/plain": "<Figure size 360x360 with 1 Axes>"
     },
     "metadata": {
      "needs_background": "light"
     },
     "output_type": "display_data"
    }
   ],
   "source": [
    "# temperature\r\n",
    "# use parameter density=True, bin width = 1 => y-axis = porportion\r\n",
    "df.hist(column=\"real_temperature\",       # Column to plot\r\n",
    "        figsize=(5,5),         # Plot size\r\n",
    "#       bins=4,                # Number of bins\r\n",
    "#       bins=[7,8,9,10,11],    # specify bins as list of boundaries (left most to right most) \r\n",
    "        bins=range(int(df[\"real_temperature\"].min())-5, int(df[\"real_temperature\"].max())+5,1),    # specify bins by range (first, last excluded, steps)  \r\n",
    "#       log=True               # y-Achse as logrithitmic scale (in case of large y-ranges)\r\n",
    "#       color=\"blue\",          # Plot color\r\n",
    "        grid=False,            # do not show the x-y-grid\r\n",
    "        edgecolor=\"black\",     # clearer visualization of the bin boundaries\r\n",
    "        density=True,          # Anstelle y-Achse = abs. H., nun y-Ache = density => Area ist rel. H.\r\n",
    "       );  \r\n",
    "# customize the plot \r\n",
    "\r\n",
    "# Optionally show smoothed curve     \r\n",
    "df[\"real_temperature\"].plot.density()    # smoothed density curve\r\n",
    "\r\n",
    "plt.title(\"Temperatur\")\r\n",
    "plt.xlabel(\"Temperatur in Celsius\")\r\n",
    "plt.ylabel(\"Gemessen\")       # y-axis shows relative frequency -> proportion (-> %)\r\n",
    "plt.xlim(df[\"real_temperature\"].min()-5, df[\"real_temperature\"].max()+5)             # optionally limit or extend the x-Achses"
   ]
  },
  {
   "cell_type": "code",
   "execution_count": 49,
   "metadata": {},
   "outputs": [
    {
     "data": {
      "text/plain": "(8.7, 18.7)"
     },
     "execution_count": 49,
     "metadata": {},
     "output_type": "execute_result"
    },
    {
     "data": {
      "image/png": "[encoded data removed]",
      "text/plain": "<Figure size 360x360 with 1 Axes>"
     },
     "metadata": {
      "needs_background": "light"
     },
     "output_type": "display_data"
    }
   ],
   "source": [
    "# temperature\r\n",
    "# use parameter density=True, bin width = 1 => y-axis = porportion\r\n",
    "df.hist(column=\"real_dew_point\",       # Column to plot\r\n",
    "        figsize=(5,5),         # Plot size\r\n",
    "#       bins=4,                # Number of bins\r\n",
    "#       bins=[7,8,9,10,11],    # specify bins as list of boundaries (left most to right most) \r\n",
    "        bins=range(int(df[\"real_dew_point\"].min())-5, int(df[\"real_dew_point\"].max())+5,1),    # specify bins by range (first, last excluded, steps)  \r\n",
    "#       log=True               # y-Achse as logrithitmic scale (in case of large y-ranges)\r\n",
    "#       color=\"blue\",          # Plot color\r\n",
    "        grid=False,            # do not show the x-y-grid\r\n",
    "        edgecolor=\"black\",     # clearer visualization of the bin boundaries\r\n",
    "        density=True,          # Anstelle y-Achse = abs. H., nun y-Ache = density => Area ist rel. H.\r\n",
    "       );  \r\n",
    "# customize the plot \r\n",
    "\r\n",
    "# Optionally show smoothed curve     \r\n",
    "#df[\"real_dew_point\"].plot.density()    # smoothed density curve\r\n",
    "\r\n",
    "plt.title(\"Taupunkt\")\r\n",
    "plt.xlabel(\"Taupunkt in Celsius\")\r\n",
    "plt.ylabel(\"Gemessen\")       # y-axis shows relative frequency -> proportion (-> %)\r\n",
    "plt.xlim(df[\"real_dew_point\"].min()-5, df[\"real_dew_point\"].max()+5)             # optionally limit or extend the x-Achses"
   ]
  },
  {
   "cell_type": "code",
   "execution_count": 48,
   "metadata": {},
   "outputs": [
    {
     "data": {
      "text/plain": "(0.0, 100.0)"
     },
     "execution_count": 48,
     "metadata": {},
     "output_type": "execute_result"
    },
    {
     "data": {
      "image/png": "[encoded data removed]",
      "text/plain": "<Figure size 360x360 with 1 Axes>"
     },
     "metadata": {
      "needs_background": "light"
     },
     "output_type": "display_data"
    }
   ],
   "source": [
    "# temperature\r\n",
    "# use parameter density=True, bin width = 1 => y-axis = porportion\r\n",
    "df.hist(column=\"real_humidity\",       # Column to plot\r\n",
    "        figsize=(5,5),         # Plot size\r\n",
    "#       bins=4,                # Number of bins\r\n",
    "#       bins=[7,8,9,10,11],    # specify bins as list of boundaries (left most to right most) \r\n",
    "        bins=range(-1, 101,1),    # specify bins by range (first, last excluded, steps)  \r\n",
    "#       log=True               # y-Achse as logrithitmic scale (in case of large y-ranges)\r\n",
    "#       color=\"blue\",          # Plot color\r\n",
    "        grid=False,            # do not show the x-y-grid\r\n",
    "        edgecolor=\"black\",     # clearer visualization of the bin boundaries\r\n",
    "        density=True,          # Anstelle y-Achse = abs. H., nun y-Ache = density => Area ist rel. H.\r\n",
    "       );  \r\n",
    "# customize the plot \r\n",
    "\r\n",
    "# Optionally show smoothed curve     \r\n",
    "#df[\"real_dew_point\"].plot.density()    # smoothed density curve\r\n",
    "\r\n",
    "plt.title(\"Feuchtigkeit\")\r\n",
    "plt.xlabel(\"Wahrscheinlichkeit\")\r\n",
    "plt.ylabel(\"Gemessen\")       # y-axis shows relative frequency -> proportion (-> %)\r\n",
    "plt.xlim(0, 100)             # optionally limit or extend the x-Achses"
   ]
  },
  {
   "cell_type": "code",
   "execution_count": 47,
   "metadata": {},
   "outputs": [
    {
     "data": {
      "text/plain": "<AxesSubplot:title={'center':'Wetter Status'}, xlabel='States', ylabel='Anteil (in %)'>"
     },
     "execution_count": 47,
     "metadata": {},
     "output_type": "execute_result"
    },
    {
     "data": {
      "image/png": "[encoded data removed]",
      "text/plain": "<Figure size 288x288 with 1 Axes>"
     },
     "metadata": {
      "needs_background": "light"
     },
     "output_type": "display_data"
    }
   ],
   "source": [
    "# state\r\n",
    "df['real_weather_state'].value_counts(normalize=True).plot(kind=\"bar\",             \r\n",
    "                                               figsize=(4,4),\r\n",
    "                                               title='Wetter Status',\r\n",
    "                                               xlabel='States',\r\n",
    "                                               ylabel='Anteil (in %)')"
   ]
  },
  {
   "cell_type": "code",
   "execution_count": 53,
   "metadata": {},
   "outputs": [
    {
     "data": {
      "text/plain": "(70.0, 80.0)"
     },
     "execution_count": 53,
     "metadata": {},
     "output_type": "execute_result"
    },
    {
     "data": {
      "image/png": "[encoded data removed]",
      "text/plain": "<Figure size 360x360 with 1 Axes>"
     },
     "metadata": {
      "needs_background": "light"
     },
     "output_type": "display_data"
    }
   ],
   "source": [
    "# visibility\r\n",
    "# use parameter density=True, bin width = 1 => y-axis = porportion\r\n",
    "df.hist(column=\"real_visibility\",       # Column to plot\r\n",
    "        figsize=(5,5),         # Plot size\r\n",
    "#       bins=4,                # Number of bins\r\n",
    "#       bins=[7,8,9,10,11],    # specify bins as list of boundaries (left most to right most) \r\n",
    "        bins=range(int(df[\"real_visibility\"].min())-5, int(df[\"real_visibility\"].max())+5,1),    # specify bins by range (first, last excluded, steps)  \r\n",
    "#       log=True               # y-Achse as logrithitmic scale (in case of large y-ranges)\r\n",
    "#       color=\"blue\",          # Plot color\r\n",
    "        grid=False,            # do not show the x-y-grid\r\n",
    "        edgecolor=\"black\",     # clearer visualization of the bin boundaries\r\n",
    "        density=True,          # Anstelle y-Achse = abs. H., nun y-Ache = density => Area ist rel. H.\r\n",
    "       );  \r\n",
    "# customize the plot \r\n",
    "\r\n",
    "# Optionally show smoothed curve     \r\n",
    "#df[\"real_dew_point\"].plot.density()    # smoothed density curve\r\n",
    "\r\n",
    "plt.title(\"Sichtweite\")\r\n",
    "plt.xlabel(\"Sichtweite in Kilometer\")\r\n",
    "plt.ylabel(\"Gemessen\")       # y-axis shows relative frequency -> proportion (-> %)\r\n",
    "plt.xlim(df[\"real_visibility\"].min()-5, df[\"real_visibility\"].max()+5)             # optionally limit or extend the x-Achses"
   ]
  },
  {
   "cell_type": "code",
   "execution_count": 55,
   "metadata": {},
   "outputs": [
    {
     "name": "stderr",
     "output_type": "stream",
     "text": [
      "C:\\Users\\tobia\\AppData\\Local\\Temp/ipykernel_16404/2883568534.py:22: UserWarning: Attempting to set identical left == right == 0 results in singular transformations; automatically expanding.\n",
      "  plt.xlim(df[\"real_rainfall\"].min(), df[\"real_rainfall\"].max())             # optionally limit or extend the x-Achses\n"
     ]
    },
    {
     "data": {
      "text/plain": "(-0.05, 0.05)"
     },
     "execution_count": 55,
     "metadata": {},
     "output_type": "execute_result"
    },
    {
     "data": {
      "image/png": "[encoded data removed]",
      "text/plain": "<Figure size 360x360 with 1 Axes>"
     },
     "metadata": {
      "needs_background": "light"
     },
     "output_type": "display_data"
    }
   ],
   "source": [
    "# temperature\r\n",
    "# use parameter density=True, bin width = 1 => y-axis = porportion\r\n",
    "df.hist(column=\"real_rainfall\",       # Column to plot\r\n",
    "        figsize=(5,5),         # Plot size\r\n",
    "#       bins=4,                # Number of bins\r\n",
    "#       bins=[7,8,9,10,11],    # specify bins as list of boundaries (left most to right most) \r\n",
    "        bins=range(int(df[\"real_rainfall\"].min())-5, int(df[\"real_rainfall\"].max())+5,1),    # specify bins by range (first, last excluded, steps)  \r\n",
    "#       log=True               # y-Achse as logrithitmic scale (in case of large y-ranges)\r\n",
    "#       color=\"blue\",          # Plot color\r\n",
    "        grid=False,            # do not show the x-y-grid\r\n",
    "        edgecolor=\"black\",     # clearer visualization of the bin boundaries\r\n",
    "        density=True,          # Anstelle y-Achse = abs. H., nun y-Ache = density => Area ist rel. H.\r\n",
    "       );  \r\n",
    "# customize the plot \r\n",
    "\r\n",
    "# Optionally show smoothed curve     \r\n",
    "#df[\"real_dew_point\"].plot.density()    # smoothed density curve\r\n",
    "\r\n",
    "plt.title(\"Niederschlag\")\r\n",
    "plt.xlabel(\"Niederschlag in mm\")\r\n",
    "plt.ylabel(\"Gemessen\")       # y-axis shows relative frequency -> proportion (-> %)\r\n",
    "plt.xlim(df[\"real_rainfall\"].min(), df[\"real_rainfall\"].max())             # optionally limit or extend the x-Achses"
   ]
  },
  {
   "cell_type": "code",
   "execution_count": 56,
   "metadata": {},
   "outputs": [
    {
     "name": "stderr",
     "output_type": "stream",
     "text": [
      "C:\\Users\\tobia\\AppData\\Local\\Temp/ipykernel_16404/886524655.py:22: UserWarning: Attempting to set identical left == right == 1017.3 results in singular transformations; automatically expanding.\n",
      "  plt.xlim(df[\"real_air_pressure\"].min(), df[\"real_air_pressure\"].max())             # optionally limit or extend the x-Achses\n"
     ]
    },
    {
     "data": {
      "text/plain": "(966.435, 1068.165)"
     },
     "execution_count": 56,
     "metadata": {},
     "output_type": "execute_result"
    },
    {
     "data": {
      "image/png": "[encoded data removed]",
      "text/plain": "<Figure size 360x360 with 1 Axes>"
     },
     "metadata": {
      "needs_background": "light"
     },
     "output_type": "display_data"
    }
   ],
   "source": [
    "# air_pressure\r\n",
    "# use parameter density=True, bin width = 1 => y-axis = porportion\r\n",
    "df.hist(column=\"real_air_pressure\",       # Column to plot\r\n",
    "        figsize=(5,5),         # Plot size\r\n",
    "#       bins=4,                # Number of bins\r\n",
    "#       bins=[7,8,9,10,11],    # specify bins as list of boundaries (left most to right most) \r\n",
    "        bins=range(int(df[\"real_air_pressure\"].min())-5, int(df[\"real_air_pressure\"].max())+5,1),    # specify bins by range (first, last excluded, steps)  \r\n",
    "#       log=True               # y-Achse as logrithitmic scale (in case of large y-ranges)\r\n",
    "#       color=\"blue\",          # Plot color\r\n",
    "        grid=False,            # do not show the x-y-grid\r\n",
    "        edgecolor=\"black\",     # clearer visualization of the bin boundaries\r\n",
    "        density=True,          # Anstelle y-Achse = abs. H., nun y-Ache = density => Area ist rel. H.\r\n",
    "       );  \r\n",
    "# customize the plot \r\n",
    "\r\n",
    "# Optionally show smoothed curve     \r\n",
    "#df[\"real_dew_point\"].plot.density()    # smoothed density curve\r\n",
    "\r\n",
    "plt.title(\"Druck\")\r\n",
    "plt.xlabel(\"Druck in km/h\")\r\n",
    "plt.ylabel(\"Gemessen\")       # y-axis shows relative frequency -> proportion (-> %)\r\n",
    "plt.xlim(df[\"real_air_pressure\"].min(), df[\"real_air_pressure\"].max())             # optionally limit or extend the x-Achses"
   ]
  },
  {
   "cell_type": "code",
   "execution_count": 59,
   "metadata": {},
   "outputs": [
    {
     "name": "stderr",
     "output_type": "stream",
     "text": [
      "C:\\Users\\tobia\\AppData\\Local\\Temp/ipykernel_16404/1459772835.py:22: UserWarning: Attempting to set identical left == right == 6 results in singular transformations; automatically expanding.\n",
      "  plt.xlim(df[\"real_wind\"].min(), df[\"real_wind\"].max())             # optionally limit or extend the x-Achses\n"
     ]
    },
    {
     "data": {
      "text/plain": "(5.7, 6.3)"
     },
     "execution_count": 59,
     "metadata": {},
     "output_type": "execute_result"
    },
    {
     "data": {
      "image/png": "[encoded data removed]",
      "text/plain": "<Figure size 360x360 with 1 Axes>"
     },
     "metadata": {
      "needs_background": "light"
     },
     "output_type": "display_data"
    }
   ],
   "source": [
    "# wind\r\n",
    "# use parameter density=True, bin width = 1 => y-axis = porportion\r\n",
    "df.hist(column=\"real_wind\",       # Column to plot\r\n",
    "        figsize=(5,5),         # Plot size\r\n",
    "#       bins=4,                # Number of bins\r\n",
    "#       bins=[7,8,9,10,11],    # specify bins as list of boundaries (left most to right most) \r\n",
    "        bins=range(int(df[\"real_wind\"].min())-5, int(df[\"real_wind\"].max())+5,1),    # specify bins by range (first, last excluded, steps)  \r\n",
    "#       log=True               # y-Achse as logrithitmic scale (in case of large y-ranges)\r\n",
    "#       color=\"blue\",          # Plot color\r\n",
    "        grid=False,            # do not show the x-y-grid\r\n",
    "        edgecolor=\"black\",     # clearer visualization of the bin boundaries\r\n",
    "        density=True,          # Anstelle y-Achse = abs. H., nun y-Ache = density => Area ist rel. H.\r\n",
    "       );  \r\n",
    "# customize the plot \r\n",
    "\r\n",
    "# Optionally show smoothed curve     \r\n",
    "#df[\"real_dew_point\"].plot.density()    # smoothed density curve\r\n",
    "\r\n",
    "plt.title(\"Wind\")\r\n",
    "plt.xlabel(\"Gechwindigkeit in km/h\")\r\n",
    "plt.ylabel(\"Gemessen\")       # y-axis shows relative frequency -> proportion (-> %)\r\n",
    "plt.xlim(df[\"real_wind\"].min(), df[\"real_wind\"].max())             # optionally limit or extend the x-Achses"
   ]
  },
  {
   "cell_type": "code",
   "execution_count": 60,
   "metadata": {},
   "outputs": [
    {
     "name": "stderr",
     "output_type": "stream",
     "text": [
      "C:\\Users\\tobia\\AppData\\Local\\Temp/ipykernel_16404/3185195974.py:22: UserWarning: Attempting to set identical left == right == 17 results in singular transformations; automatically expanding.\n",
      "  plt.xlim(df[\"real_wind_gusts\"].min(), df[\"real_wind_gusts\"].max())             # optionally limit or extend the x-Achses\n"
     ]
    },
    {
     "data": {
      "text/plain": "(16.15, 17.85)"
     },
     "execution_count": 60,
     "metadata": {},
     "output_type": "execute_result"
    },
    {
     "data": {
      "image/png": "[encoded data removed]",
      "text/plain": "<Figure size 360x360 with 1 Axes>"
     },
     "metadata": {
      "needs_background": "light"
     },
     "output_type": "display_data"
    }
   ],
   "source": [
    "# wind_gusts\r\n",
    "# use parameter density=True, bin width = 1 => y-axis = porportion\r\n",
    "df.hist(column=\"real_wind_gusts\",       # Column to plot\r\n",
    "        figsize=(5,5),         # Plot size\r\n",
    "#       bins=4,                # Number of bins\r\n",
    "#       bins=[7,8,9,10,11],    # specify bins as list of boundaries (left most to right most) \r\n",
    "        bins=range(int(df[\"real_wind_gusts\"].min())-5, int(df[\"real_wind_gusts\"].max())+5,1),    # specify bins by range (first, last excluded, steps)  \r\n",
    "#       log=True               # y-Achse as logrithitmic scale (in case of large y-ranges)\r\n",
    "#       color=\"blue\",          # Plot color\r\n",
    "        grid=False,            # do not show the x-y-grid\r\n",
    "        edgecolor=\"black\",     # clearer visualization of the bin boundaries\r\n",
    "        density=True,          # Anstelle y-Achse = abs. H., nun y-Ache = density => Area ist rel. H.\r\n",
    "       );  \r\n",
    "# customize the plot \r\n",
    "\r\n",
    "# Optionally show smoothed curve     \r\n",
    "#df[\"real_dew_point\"].plot.density()    # smoothed density curve\r\n",
    "\r\n",
    "plt.title(\"Windböen\")\r\n",
    "plt.xlabel(\"Geschwindigkeit in km/h\")\r\n",
    "plt.ylabel(\"Gemessen\")       # y-axis shows relative frequency -> proportion (-> %)\r\n",
    "plt.xlim(df[\"real_wind_gusts\"].min(), df[\"real_wind_gusts\"].max())             # optionally limit or extend the x-Achses"
   ]
  },
  {
   "cell_type": "code",
   "execution_count": 61,
   "metadata": {},
   "outputs": [
    {
     "data": {
      "text/plain": "<AxesSubplot:title={'center':'Windrichtung'}, ylabel='Prozentualer Anteil'>"
     },
     "execution_count": 61,
     "metadata": {},
     "output_type": "execute_result"
    },
    {
     "data": {
      "image/png": "[encoded data removed]",
      "text/plain": "<Figure size 360x360 with 1 Axes>"
     },
     "metadata": {},
     "output_type": "display_data"
    }
   ],
   "source": [
    "df['real_wind_direction'].value_counts(normalize=True).plot(kind=\"pie\",             \r\n",
    "                                               figsize=(5,5),\r\n",
    "                                               title='Windrichtung',\r\n",
    "                                               xlabel='Himmelsrichtungen',\r\n",
    "                                               ylabel='Prozentualer Anteil')"
   ]
  }
 ],
 "metadata": {
  "kernelspec": {
   "display_name": "Python 3.9.4 64-bit",
   "name": "python394jvsc74a57bd096a5d84734c2fcc0f1c4e29111ed2080412c48bc33f767562c76143427b08200"
  },
  "language_info": {
   "codemirror_mode": {
    "name": "ipython",
    "version": 3
   },
   "file_extension": ".py",
   "mimetype": "text/x-python",
   "name": "python",
   "nbconvert_exporter": "python",
   "pygments_lexer": "ipython3",
   "version": "3.9.4"
  },
  "metadata": {
   "interpreter": {
    "hash": "96a5d84734c2fcc0f1c4e29111ed2080412c48bc33f767562c76143427b08200"
   }
  },
  "orig_nbformat": 2
 },
 "nbformat": 4,
 "nbformat_minor": 2
}